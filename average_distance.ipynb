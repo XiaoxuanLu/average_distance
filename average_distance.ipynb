{
 "cells": [
  {
   "cell_type": "code",
   "execution_count": 82,
   "metadata": {},
   "outputs": [],
   "source": [
    "from itertools import combinations\n",
    "from scipy.spatial import distance\n",
    "import matplotlib.pyplot as plt\n",
    "import numpy as np"
   ]
  },
  {
   "cell_type": "markdown",
   "metadata": {},
   "source": [
    "Create dis function to find the distance between any two points in a list by using Python’s SciPy library"
   ]
  },
  {
   "cell_type": "code",
   "execution_count": 83,
   "metadata": {},
   "outputs": [],
   "source": [
    "def dis(lst_coords):\n",
    "    lst_dis = [distance.euclidean(*combo) for combo in combinations(lst_coords,2)]\n",
    "    return lst_dis"
   ]
  },
  {
   "cell_type": "markdown",
   "metadata": {},
   "source": [
    "Create ave function to take in a list of distances between several two points chosen randomly, and return the average of distance in the list. "
   ]
  },
  {
   "cell_type": "code",
   "execution_count": 84,
   "metadata": {},
   "outputs": [],
   "source": [
    "def ave(lst):\n",
    "    return sum(lst)/len(lst)"
   ]
  },
  {
   "cell_type": "markdown",
   "metadata": {},
   "source": [
    "Create a generate function to generate a list of random points. n is the dimension, p is the number of points I will generate. "
   ]
  },
  {
   "cell_type": "code",
   "execution_count": 85,
   "metadata": {},
   "outputs": [],
   "source": [
    "def generate(n, p):\n",
    "    coords = np.random.rand(p, n)\n",
    "    lst_coords = coords.tolist()\n",
    "    return lst_coords\n",
    "    "
   ]
  },
  {
   "cell_type": "code",
   "execution_count": 91,
   "metadata": {},
   "outputs": [],
   "source": [
    "# n is the max dimension we want to draw for the graph\n",
    "# p is the random number of points we want to generate\n",
    "def plot(n, p):\n",
    "    lst_x = []\n",
    "    lst_y = []\n",
    "    for i in range(1, n + 1):\n",
    "        lst_x.append(i)\n",
    "        lst_dis = dis(generate(i, p))\n",
    "        average_dis = ave(lst_dis)\n",
    "        lst_y.append(average_dis)\n",
    "        \n",
    "    # a graph of Average Distances in n-Dimensional Hypercubes\n",
    "    plt.plot(lst_x,lst_y, 'b-', label = \"dimension in logarithmic scale\")\n",
    "    plt.xscale(\"log\")\n",
    "    plt.xlabel('number of dimensions')\n",
    "    plt.ylabel('average distance')\n",
    "    plt.legend()\n",
    "    plt.show()\n",
    "        "
   ]
  },
  {
   "cell_type": "code",
   "execution_count": 94,
   "metadata": {},
   "outputs": [
    {
     "data": {
      "image/png": "[encoded data removed]",
      "text/plain": [
       "<Figure size 432x288 with 1 Axes>"
      ]
     },
     "metadata": {
      "needs_background": "light"
     },
     "output_type": "display_data"
    }
   ],
   "source": [
    "plot(1000,100)"
   ]
  },
  {
   "cell_type": "code",
   "execution_count": null,
   "metadata": {},
   "outputs": [],
   "source": [
    "plot(10000,100)"
   ]
  },
  {
   "cell_type": "code",
   "execution_count": null,
   "metadata": {},
   "outputs": [],
   "source": []
  }
 ],
 "metadata": {
  "kernelspec": {
   "display_name": "Python 3",
   "language": "python",
   "name": "python3"
  },
  "language_info": {
   "codemirror_mode": {
    "name": "ipython",
    "version": 3
   },
   "file_extension": ".py",
   "mimetype": "text/x-python",
   "name": "python",
   "nbconvert_exporter": "python",
   "pygments_lexer": "ipython3",
   "version": "3.7.4"
  }
 },
 "nbformat": 4,
 "nbformat_minor": 2
}
